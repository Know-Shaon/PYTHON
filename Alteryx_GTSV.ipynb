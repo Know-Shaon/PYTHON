{
 "cells": [
  {
   "cell_type": "code",
   "execution_count": null,
   "metadata": {},
   "outputs": [],
   "source": [
    "from ayx import Alteryx\n",
    "\n",
    "import pandas as pd\n",
    "import re\n",
    "\n",
    "gtsv_data =Alteryx.read(\"#1\")\n",
    "gtsv_data['change_date'] = pd.to_datetime(gtsv_data['change_date'])"
   ]
  },
  {
   "cell_type": "code",
   "execution_count": null,
   "metadata": {},
   "outputs": [],
   "source": [
    "T_Number = []\n",
    "matched_t_num = list(gtsv_data['T_Number'])\n",
    "toolname  = list(gtsv_data['toolname'])\n",
    "tool_description = list(gtsv_data['DESCRIPTION'])\n",
    "for i in range(0, len(matched_t_num)):\n",
    "    match = None\n",
    "    t_num = str(matched_t_num[i])\n",
    "    item_name = str(toolname[i])\n",
    "    description = str(tool_description[i])\n",
    "    if t_num != 'NA':\n",
    "        match = re.search(r'\\(?([T])+([0-9])+.\\)?', t_num)\n",
    "        if match is not None:\n",
    "            match = re.sub(r'[^a-zA-Z0-9 ]',r'',str(match.group()))\n",
    "            match = match.replace(\"X\", \"\")\n",
    "            T_Number.append(match.replace(\"-\", \"\"))\n",
    "    if match is None:\n",
    "            if item_name != '':\n",
    "                match = re.search(r'\\(?([T])+([0-9])+.\\)?', item_name)\n",
    "                if match is not None:\n",
    "                    match = re.sub(r'[^a-zA-Z0-9 ]',r'',str(match.group()))\n",
    "                    match = match.replace(\"X\", \"\")\n",
    "                    T_Number.append(match.replace(\"-\", \"\"))\n",
    "    if match is None:\n",
    "                        if description != '':\n",
    "                            match = re.search(r'\\(?([T])+([0-9])+.\\)?', description)\n",
    "                            if match is not None:\n",
    "                                match = re.sub(r'[^a-zA-Z0-9 ]',r'',str(match.group()))\n",
    "                                match = match.replace(\"X\", \"\")\n",
    "                                T_Number.append(match.replace(\"-\", \"\"))\n",
    "    if match is None:\n",
    "            T_Number.append(\"NA\")\n",
    "gtsv_data['T_Number'] = T_Number\n",
    "        "
   ]
  },
  {
   "cell_type": "code",
   "execution_count": null,
   "metadata": {},
   "outputs": [],
   "source": [
    "# Round of to the nearest 5 minute\n",
    "# Sort by Change Date, Item_ID, life_id, location_id, comp_item_id\n",
    "gtsv_data['ref_change_date'] = gtsv_data['change_date'].dt.round('5min')\n",
    "gtsv_data = gtsv_data.sort_values(by = ['plant_cd','item_id', 'ref_change_date', 'location_id', 'comp_item_id',\n",
    "                                     'expected_count', 'end_count', 'issuename'], ascending  = [1,1,1,1,1,0,0,1])\n",
    "\n",
    "\n",
    "\n",
    "# IF we do that and extract the first record that will minimize the number of duplicates"
   ]
  },
  {
   "cell_type": "code",
   "execution_count": null,
   "metadata": {},
   "outputs": [],
   "source": [
    "# Step 1: Minimize the number of duplicate records getting booked for the same edge\n",
    "\n",
    "gtsv_grouped1 = gtsv_data.groupby(['plant_cd','item_id', 'ref_change_date', 'location_id', \n",
    "                                'comp_item_id', 'expected_count', 'end_count', 'issuename']).first().reset_index()\n",
    "\n",
    "#print (\"Number of Records in DEP Grouped 1\", len(dep_grouped1))"
   ]
  },
  {
   "cell_type": "code",
   "execution_count": null,
   "metadata": {},
   "outputs": [],
   "source": [
    "# step 2 : For the same component id see if there are multiple expected count available if so take the maximum expected count\n",
    "\n",
    "gtsv_grouped2 = gtsv_grouped1.groupby(['plant_cd','item_id', 'ref_change_date', 'location_id', \n",
    "                                    'comp_item_id', 'issuename']).agg({ 'expected_count': max,'end_count':max}).reset_index()\n",
    "\n",
    "gtsv_grouped1 = gtsv_grouped1.merge(gtsv_grouped2, on = ['plant_cd','item_id', 'ref_change_date', 'location_id', 'comp_item_id', \n",
    "                                                     'issuename', 'expected_count', 'end_count'], how = 'inner')\n",
    "\n",
    "#print (\"Number of Records Reduced\", len(dep_grouped1))"
   ]
  },
  {
   "cell_type": "code",
   "execution_count": null,
   "metadata": {},
   "outputs": [],
   "source": [
    "Alteryx.write(gtsv_grouped1,1)"
   ]
  }
 ],
 "metadata": {
  "kernelspec": {
   "display_name": "Python 3",
   "language": "python",
   "name": "python3"
  },
  "language_info": {
   "codemirror_mode": {
    "name": "ipython",
    "version": 3
   },
   "file_extension": ".py",
   "mimetype": "text/x-python",
   "name": "python",
   "nbconvert_exporter": "python",
   "pygments_lexer": "ipython3",
   "version": "3.6.5"
  }
 },
 "nbformat": 4,
 "nbformat_minor": 2
}
