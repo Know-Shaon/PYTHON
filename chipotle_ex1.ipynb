{
 "cells": [
  {
   "cell_type": "markdown",
   "metadata": {},
   "source": [
    "'''\n",
    "Python Homework with Chipotle data\n",
    "https://github.com/TheUpshot/chipotle\n",
    "'''\n",
    "\n",
    "'''\n",
    "BASIC LEVEL\n",
    "PART 1: Read in the file with csv.reader() and store it in an object called 'file_nested_list'.\n",
    "Hint: This is a TSV file, and csv.reader() needs to be told how to handle it.\n",
    "      https://docs.python.org/2/library/csv.html\n",
    "'''"
   ]
  },
  {
   "cell_type": "code",
   "execution_count": 19,
   "metadata": {},
   "outputs": [],
   "source": [
    "import csv\n",
    "\n",
    "# specify that the delimiter is a tab character\n",
    "with open('chipotle.tsv') as f:\n",
    "    file_nested_list = [row for row in csv.reader(f, delimiter='\\t')]"
   ]
  },
  {
   "cell_type": "markdown",
   "metadata": {},
   "source": [
    "'''\n",
    "BASIC LEVEL\n",
    "PART 2: Separate 'file_nested_list' into the 'header' and the 'data'.\n",
    "'''"
   ]
  },
  {
   "cell_type": "code",
   "execution_count": 17,
   "metadata": {},
   "outputs": [],
   "source": [
    "header = file_nested_list[0]\n",
    "data = file_nested_list[1:]"
   ]
  },
  {
   "cell_type": "code",
   "execution_count": 20,
   "metadata": {},
   "outputs": [
    {
     "data": {
      "text/plain": [
       "['order_id', 'quantity', 'item_name', 'choice_description', 'item_price']"
      ]
     },
     "execution_count": 20,
     "metadata": {},
     "output_type": "execute_result"
    }
   ],
   "source": [
    "header"
   ]
  },
  {
   "cell_type": "code",
   "execution_count": 24,
   "metadata": {},
   "outputs": [
    {
     "data": {
      "text/plain": [
       "[['1', '1', 'Chips and Fresh Tomato Salsa', 'NULL', '$2.39 '],\n",
       " ['1', '1', 'Izze', '[Clementine]', '$3.39 ']]"
      ]
     },
     "execution_count": 24,
     "metadata": {},
     "output_type": "execute_result"
    }
   ],
   "source": [
    "data[0:2]"
   ]
  },
  {
   "cell_type": "markdown",
   "metadata": {},
   "source": [
    "'''\n",
    "INTERMEDIATE LEVEL\n",
    "PART 3: Calculate the average price of an order.\n",
    "Hint: Examine the data to see if the 'quantity' column is relevant to this calculation.\n",
    "Hint: Think carefully about the simplest way to do this!\n",
    "'''"
   ]
  },
  {
   "cell_type": "code",
   "execution_count": 53,
   "metadata": {},
   "outputs": [
    {
     "data": {
      "text/plain": [
       "1834"
      ]
     },
     "execution_count": 53,
     "metadata": {},
     "output_type": "execute_result"
    }
   ],
   "source": [
    "# count the number of unique order_id's\n",
    "# note: you could assume this is 1834 since that's the maximum order_id, but it's best to check\n",
    "num_orders = len(set([row[0] for row in data]))     # 1834\n",
    "num_orders"
   ]
  },
  {
   "cell_type": "code",
   "execution_count": 45,
   "metadata": {},
   "outputs": [
    {
     "data": {
      "text/plain": [
       "[2.39, 3.39, 3.39, 2.39, 16.98, 10.98, 1.69, 11.75, 9.25, 9.25]"
      ]
     },
     "execution_count": 45,
     "metadata": {},
     "output_type": "execute_result"
    }
   ],
   "source": [
    "# create a list of prices\n",
    "# note: ignore the 'quantity' column because the 'item_price' takes quantity into account\n",
    "prices = [float(row[4][1:-1]) for row in data]      # strip the dollar sign and trailing space\n",
    "prices[0:10]"
   ]
  },
  {
   "cell_type": "code",
   "execution_count": 54,
   "metadata": {},
   "outputs": [
    {
     "data": {
      "text/plain": [
       "18.81"
      ]
     },
     "execution_count": 54,
     "metadata": {},
     "output_type": "execute_result"
    }
   ],
   "source": [
    "# calculate the average price of an order and round to 2 digits\n",
    "round(sum(prices) / num_orders, 2)      # $18.81"
   ]
  },
  {
   "cell_type": "markdown",
   "metadata": {},
   "source": [
    "'''\n",
    "INTERMEDIATE LEVEL\n",
    "PART 4: Create a list (or set) of all unique sodas and soft drinks that they sell.\n",
    "Note: Just look for 'Canned Soda' and 'Canned Soft Drink', and ignore other drinks like 'Izze'.\n",
    "'''"
   ]
  },
  {
   "cell_type": "code",
   "execution_count": 17,
   "metadata": {},
   "outputs": [],
   "source": [
    "# if 'item_name' includes 'Canned', append 'choice_description' to 'sodas' list\n",
    "sodas = []\n",
    "for row in data:\n",
    "    if 'Canned' in row[2]:\n",
    "        sodas.append(row[3][1:-1])      # strip the brackets"
   ]
  },
  {
   "cell_type": "code",
   "execution_count": 60,
   "metadata": {},
   "outputs": [
    {
     "data": {
      "text/plain": [
       "{'Coca Cola',\n",
       " 'Coke',\n",
       " 'Diet Coke',\n",
       " 'Diet Dr. Pepper',\n",
       " 'Dr. Pepper',\n",
       " 'Lemonade',\n",
       " 'Mountain Dew',\n",
       " 'Nestea',\n",
       " 'Sprite'}"
      ]
     },
     "execution_count": 60,
     "metadata": {},
     "output_type": "execute_result"
    }
   ],
   "source": [
    "# create a set of unique sodas\n",
    "unique_sodas = set(sodas)\n",
    "unique_sodas"
   ]
  },
  {
   "cell_type": "code",
   "execution_count": 66,
   "metadata": {},
   "outputs": [],
   "source": [
    "# equivalent list comprehension (using an 'if' condition)\n",
    "sodas = [row[3][1:-1] for row in data if 'Canned' in row[2]]"
   ]
  },
  {
   "cell_type": "code",
   "execution_count": 67,
   "metadata": {},
   "outputs": [
    {
     "data": {
      "text/plain": [
       "{'Coca Cola',\n",
       " 'Coke',\n",
       " 'Diet Coke',\n",
       " 'Diet Dr. Pepper',\n",
       " 'Dr. Pepper',\n",
       " 'Lemonade',\n",
       " 'Mountain Dew',\n",
       " 'Nestea',\n",
       " 'Sprite'}"
      ]
     },
     "execution_count": 67,
     "metadata": {},
     "output_type": "execute_result"
    }
   ],
   "source": [
    "# create a set of unique sodas\n",
    "unique_sodas = set(sodas)\n",
    "unique_sodas"
   ]
  },
  {
   "cell_type": "code",
   "execution_count": 17,
   "metadata": {},
   "outputs": [],
   "source": [
    "'''\n",
    "ADVANCED LEVEL\n",
    "PART 5: Calculate the average number of toppings per burrito.\n",
    "Note: Let's ignore the 'quantity' column to simplify this task.\n",
    "Hint: Think carefully about the easiest way to count the number of toppings!\n",
    "'''"
   ]
  },
  {
   "cell_type": "code",
   "execution_count": 68,
   "metadata": {},
   "outputs": [],
   "source": [
    "# keep a running total of burritos and toppings\n",
    "burrito_count = 0\n",
    "topping_count = 0"
   ]
  },
  {
   "cell_type": "code",
   "execution_count": 69,
   "metadata": {},
   "outputs": [],
   "source": [
    "# calculate number of toppings by counting the commas and adding 1\n",
    "# note: x += 1 is equivalent to x = x + 1\n",
    "for row in data:\n",
    "    if 'Burrito' in row[2]:\n",
    "        burrito_count += 1\n",
    "        topping_count += (row[3].count(',') + 1)"
   ]
  },
  {
   "cell_type": "code",
   "execution_count": 70,
   "metadata": {},
   "outputs": [
    {
     "data": {
      "text/plain": [
       "1172"
      ]
     },
     "execution_count": 70,
     "metadata": {},
     "output_type": "execute_result"
    }
   ],
   "source": [
    "burrito_count"
   ]
  },
  {
   "cell_type": "code",
   "execution_count": 71,
   "metadata": {},
   "outputs": [
    {
     "data": {
      "text/plain": [
       "6323"
      ]
     },
     "execution_count": 71,
     "metadata": {},
     "output_type": "execute_result"
    }
   ],
   "source": [
    "topping_count"
   ]
  },
  {
   "cell_type": "code",
   "execution_count": 72,
   "metadata": {},
   "outputs": [
    {
     "data": {
      "text/plain": [
       "5.4"
      ]
     },
     "execution_count": 72,
     "metadata": {},
     "output_type": "execute_result"
    }
   ],
   "source": [
    "# calculate the average topping count and round to 2 digits\n",
    "round(topping_count / float(burrito_count), 2)      # 5.40"
   ]
  },
  {
   "cell_type": "markdown",
   "metadata": {},
   "source": [
    "'''\n",
    "ADVANCED LEVEL\n",
    "PART 6: Create a dictionary in which the keys represent chip orders and\n",
    "  the values represent the total number of orders.\n",
    "Expected output: {'Chips and Roasted Chili-Corn Salsa': 18, ... }\n",
    "Note: Please take the 'quantity' column into account!\n",
    "Optional: Learn how to use 'defaultdict' to simplify your code.\n",
    "'''"
   ]
  },
  {
   "cell_type": "code",
   "execution_count": 73,
   "metadata": {},
   "outputs": [],
   "source": [
    "# start with an empty dictionary\n",
    "chips = {}\n",
    "\n",
    "# if chip order is not in dictionary, then add a new key/value pair\n",
    "# if chip order is already in dictionary, then update the value for that key\n",
    "for row in data:\n",
    "    if 'Chips' in row[2]:\n",
    "        if row[2] not in chips:\n",
    "            chips[row[2]] = int(row[1])     # this is a new key, so create key/value pair\n",
    "        else:\n",
    "            chips[row[2]] += int(row[1])    # this is an existing key, so add to the value"
   ]
  },
  {
   "cell_type": "code",
   "execution_count": 74,
   "metadata": {},
   "outputs": [
    {
     "data": {
      "text/plain": [
       "{'Chips and Fresh Tomato Salsa': 130,\n",
       " 'Chips and Tomatillo-Green Chili Salsa': 33,\n",
       " 'Side of Chips': 110,\n",
       " 'Chips and Guacamole': 506,\n",
       " 'Chips and Tomatillo Green Chili Salsa': 45,\n",
       " 'Chips': 230,\n",
       " 'Chips and Tomatillo Red Chili Salsa': 50,\n",
       " 'Chips and Roasted Chili-Corn Salsa': 18,\n",
       " 'Chips and Roasted Chili Corn Salsa': 23,\n",
       " 'Chips and Tomatillo-Red Chili Salsa': 25,\n",
       " 'Chips and Mild Fresh Tomato Salsa': 1}"
      ]
     },
     "execution_count": 74,
     "metadata": {},
     "output_type": "execute_result"
    }
   ],
   "source": [
    "chips"
   ]
  },
  {
   "cell_type": "code",
   "execution_count": 75,
   "metadata": {},
   "outputs": [],
   "source": [
    "# defaultdict saves you the trouble of checking whether a key already exists\n",
    "from collections import defaultdict\n",
    "dchips = defaultdict(int)\n",
    "for row in data:\n",
    "    if 'Chips' in row[2]:\n",
    "        dchips[row[2]] += int(row[1])"
   ]
  },
  {
   "cell_type": "markdown",
   "metadata": {},
   "source": [
    "'''\n",
    "BONUS: Think of a question about this data that interests you, and then answer it!\n",
    "'''"
   ]
  }
 ],
 "metadata": {
  "kernelspec": {
   "display_name": "Python 3",
   "language": "python",
   "name": "python3"
  },
  "language_info": {
   "codemirror_mode": {
    "name": "ipython",
    "version": 3
   },
   "file_extension": ".py",
   "mimetype": "text/x-python",
   "name": "python",
   "nbconvert_exporter": "python",
   "pygments_lexer": "ipython3",
   "version": "3.6.2"
  }
 },
 "nbformat": 4,
 "nbformat_minor": 2
}
